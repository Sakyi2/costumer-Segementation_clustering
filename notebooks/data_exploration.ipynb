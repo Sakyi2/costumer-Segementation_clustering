{
 "cells": [
  {
   "cell_type": "markdown",
   "id": "2bba1bdf",
   "metadata": {},
   "source": [
    "COSTOMER SEGMENTATION : GROUPING CUSTOMER IN VARIOUS CLUSTERS CHARACTERICTS SO THAT YOU CAN TAGET THEM BETTER "
   ]
  },
  {
   "cell_type": "markdown",
   "id": "ba415ec0",
   "metadata": {},
   "source": [
    "WHY USE CLUSTERING :because we dont have lables (Unsupervise learning)\n",
    "Poular aglorithm:\n",
    "\n",
    "1:Kmeans\n",
    "\n",
    "2:Hierarchical Clustering\n",
    "\n",
    "3:DBSCAN"
   ]
  },
  {
   "cell_type": "markdown",
   "id": "a1c73f23",
   "metadata": {},
   "source": [
    "TABLE CONTENT \n",
    "1: import libaries\n",
    "\n",
    "2:Laoding libaries\n",
    "\n",
    "3:Data cleaning\n",
    "\n",
    "4:Data processing\n",
    "\n",
    "5:demintional reduction\n",
    "\n",
    "6:clustering\n",
    "\n",
    "7:Evaluating models\n",
    "\n",
    "8:Profiling\n",
    "\n",
    "9:conclusion"
   ]
  },
  {
   "cell_type": "code",
   "execution_count": 9,
   "id": "9a647fc9",
   "metadata": {},
   "outputs": [],
   "source": [
    "\n",
    "#import  libraries\n",
    "\n",
    "import numpy as np\n",
    "import pandas as pd\n",
    "import datetime\n",
    "import matplotlib\n",
    "import matplotlib.pyplot as plt\n",
    "from matplotlib import colors\n",
    "import seaborn as sns\n",
    "from sklearn.preprocessing import LabelEncoder\n",
    "from sklearn.preprocessing import StandardScaler\n",
    "from sklearn.decomposition import PCA\n",
    "from yellowbrick.cluster import KElbowVisualizer\n",
    "from sklearn.cluster import KMeans\n",
    "import matplotlib.pyplot as plt, numpy as np\n",
    "from mpl_toolkits.mplot3d import Axes3D\n",
    "from sklearn.cluster import AgglomerativeClustering\n",
    "from matplotlib.colors import ListedColormap\n",
    "from sklearn import metrics\n",
    "import warnings\n",
    "import sys\n",
    "if not sys.warnoptions:\n",
    "    warnings.simplefilter(\"ignore\")\n",
    "np.random.seed(42)"
   ]
  },
  {
   "cell_type": "markdown",
   "id": "0becfb09",
   "metadata": {},
   "source": [
    "STEP 1 LOADING THE DATA "
   ]
  },
  {
   "cell_type": "code",
   "execution_count": 10,
   "id": "22e88acf",
   "metadata": {},
   "outputs": [
    {
     "name": "stdout",
     "output_type": "stream",
     "text": [
      "Number of data points : 2240\n"
     ]
    },
    {
     "data": {
      "text/html": [
       "<div>\n",
       "<style scoped>\n",
       "    .dataframe tbody tr th:only-of-type {\n",
       "        vertical-align: middle;\n",
       "    }\n",
       "\n",
       "    .dataframe tbody tr th {\n",
       "        vertical-align: top;\n",
       "    }\n",
       "\n",
       "    .dataframe thead th {\n",
       "        text-align: right;\n",
       "    }\n",
       "</style>\n",
       "<table border=\"1\" class=\"dataframe\">\n",
       "  <thead>\n",
       "    <tr style=\"text-align: right;\">\n",
       "      <th></th>\n",
       "      <th>ID</th>\n",
       "      <th>Year_Birth</th>\n",
       "      <th>Education</th>\n",
       "      <th>Marital_Status</th>\n",
       "      <th>Income</th>\n",
       "      <th>Kidhome</th>\n",
       "      <th>Teenhome</th>\n",
       "      <th>Dt_Customer</th>\n",
       "      <th>Recency</th>\n",
       "      <th>MntWines</th>\n",
       "      <th>...</th>\n",
       "      <th>NumWebVisitsMonth</th>\n",
       "      <th>AcceptedCmp3</th>\n",
       "      <th>AcceptedCmp4</th>\n",
       "      <th>AcceptedCmp5</th>\n",
       "      <th>AcceptedCmp1</th>\n",
       "      <th>AcceptedCmp2</th>\n",
       "      <th>Complain</th>\n",
       "      <th>Z_CostContact</th>\n",
       "      <th>Z_Revenue</th>\n",
       "      <th>Response</th>\n",
       "    </tr>\n",
       "  </thead>\n",
       "  <tbody>\n",
       "    <tr>\n",
       "      <th>0</th>\n",
       "      <td>5524</td>\n",
       "      <td>1957</td>\n",
       "      <td>Graduation</td>\n",
       "      <td>Single</td>\n",
       "      <td>58138.0</td>\n",
       "      <td>0</td>\n",
       "      <td>0</td>\n",
       "      <td>04-09-2012</td>\n",
       "      <td>58</td>\n",
       "      <td>635</td>\n",
       "      <td>...</td>\n",
       "      <td>7</td>\n",
       "      <td>0</td>\n",
       "      <td>0</td>\n",
       "      <td>0</td>\n",
       "      <td>0</td>\n",
       "      <td>0</td>\n",
       "      <td>0</td>\n",
       "      <td>3</td>\n",
       "      <td>11</td>\n",
       "      <td>1</td>\n",
       "    </tr>\n",
       "    <tr>\n",
       "      <th>1</th>\n",
       "      <td>2174</td>\n",
       "      <td>1954</td>\n",
       "      <td>Graduation</td>\n",
       "      <td>Single</td>\n",
       "      <td>46344.0</td>\n",
       "      <td>1</td>\n",
       "      <td>1</td>\n",
       "      <td>08-03-2014</td>\n",
       "      <td>38</td>\n",
       "      <td>11</td>\n",
       "      <td>...</td>\n",
       "      <td>5</td>\n",
       "      <td>0</td>\n",
       "      <td>0</td>\n",
       "      <td>0</td>\n",
       "      <td>0</td>\n",
       "      <td>0</td>\n",
       "      <td>0</td>\n",
       "      <td>3</td>\n",
       "      <td>11</td>\n",
       "      <td>0</td>\n",
       "    </tr>\n",
       "    <tr>\n",
       "      <th>2</th>\n",
       "      <td>4141</td>\n",
       "      <td>1965</td>\n",
       "      <td>Graduation</td>\n",
       "      <td>Together</td>\n",
       "      <td>71613.0</td>\n",
       "      <td>0</td>\n",
       "      <td>0</td>\n",
       "      <td>21-08-2013</td>\n",
       "      <td>26</td>\n",
       "      <td>426</td>\n",
       "      <td>...</td>\n",
       "      <td>4</td>\n",
       "      <td>0</td>\n",
       "      <td>0</td>\n",
       "      <td>0</td>\n",
       "      <td>0</td>\n",
       "      <td>0</td>\n",
       "      <td>0</td>\n",
       "      <td>3</td>\n",
       "      <td>11</td>\n",
       "      <td>0</td>\n",
       "    </tr>\n",
       "    <tr>\n",
       "      <th>3</th>\n",
       "      <td>6182</td>\n",
       "      <td>1984</td>\n",
       "      <td>Graduation</td>\n",
       "      <td>Together</td>\n",
       "      <td>26646.0</td>\n",
       "      <td>1</td>\n",
       "      <td>0</td>\n",
       "      <td>10-02-2014</td>\n",
       "      <td>26</td>\n",
       "      <td>11</td>\n",
       "      <td>...</td>\n",
       "      <td>6</td>\n",
       "      <td>0</td>\n",
       "      <td>0</td>\n",
       "      <td>0</td>\n",
       "      <td>0</td>\n",
       "      <td>0</td>\n",
       "      <td>0</td>\n",
       "      <td>3</td>\n",
       "      <td>11</td>\n",
       "      <td>0</td>\n",
       "    </tr>\n",
       "    <tr>\n",
       "      <th>4</th>\n",
       "      <td>5324</td>\n",
       "      <td>1981</td>\n",
       "      <td>PhD</td>\n",
       "      <td>Married</td>\n",
       "      <td>58293.0</td>\n",
       "      <td>1</td>\n",
       "      <td>0</td>\n",
       "      <td>19-01-2014</td>\n",
       "      <td>94</td>\n",
       "      <td>173</td>\n",
       "      <td>...</td>\n",
       "      <td>5</td>\n",
       "      <td>0</td>\n",
       "      <td>0</td>\n",
       "      <td>0</td>\n",
       "      <td>0</td>\n",
       "      <td>0</td>\n",
       "      <td>0</td>\n",
       "      <td>3</td>\n",
       "      <td>11</td>\n",
       "      <td>0</td>\n",
       "    </tr>\n",
       "  </tbody>\n",
       "</table>\n",
       "<p>5 rows × 29 columns</p>\n",
       "</div>"
      ],
      "text/plain": [
       "     ID  Year_Birth   Education Marital_Status   Income  Kidhome  Teenhome  \\\n",
       "0  5524        1957  Graduation         Single  58138.0        0         0   \n",
       "1  2174        1954  Graduation         Single  46344.0        1         1   \n",
       "2  4141        1965  Graduation       Together  71613.0        0         0   \n",
       "3  6182        1984  Graduation       Together  26646.0        1         0   \n",
       "4  5324        1981         PhD        Married  58293.0        1         0   \n",
       "\n",
       "  Dt_Customer  Recency  MntWines  ...  NumWebVisitsMonth  AcceptedCmp3  \\\n",
       "0  04-09-2012       58       635  ...                  7             0   \n",
       "1  08-03-2014       38        11  ...                  5             0   \n",
       "2  21-08-2013       26       426  ...                  4             0   \n",
       "3  10-02-2014       26        11  ...                  6             0   \n",
       "4  19-01-2014       94       173  ...                  5             0   \n",
       "\n",
       "   AcceptedCmp4  AcceptedCmp5  AcceptedCmp1  AcceptedCmp2  Complain  \\\n",
       "0             0             0             0             0         0   \n",
       "1             0             0             0             0         0   \n",
       "2             0             0             0             0         0   \n",
       "3             0             0             0             0         0   \n",
       "4             0             0             0             0         0   \n",
       "\n",
       "   Z_CostContact  Z_Revenue  Response  \n",
       "0              3         11         1  \n",
       "1              3         11         0  \n",
       "2              3         11         0  \n",
       "3              3         11         0  \n",
       "4              3         11         0  \n",
       "\n",
       "[5 rows x 29 columns]"
      ]
     },
     "execution_count": 10,
     "metadata": {},
     "output_type": "execute_result"
    }
   ],
   "source": [
    "data  = pd.read_csv(\"marketing_campaign-1.xls\", sep=\"\\t\")\n",
    "print(\"Number of data points :\", len(data) )\n",
    "data.head()"
   ]
  },
  {
   "cell_type": "markdown",
   "id": "6abbf0cf",
   "metadata": {},
   "source": [
    "STEP 2 DATA CLEANING  & FEATURE ENINGERING"
   ]
  },
  {
   "cell_type": "code",
   "execution_count": 11,
   "id": "55eb8fe5",
   "metadata": {},
   "outputs": [
    {
     "name": "stdout",
     "output_type": "stream",
     "text": [
      "<class 'pandas.core.frame.DataFrame'>\n",
      "RangeIndex: 2240 entries, 0 to 2239\n",
      "Data columns (total 29 columns):\n",
      " #   Column               Non-Null Count  Dtype  \n",
      "---  ------               --------------  -----  \n",
      " 0   ID                   2240 non-null   int64  \n",
      " 1   Year_Birth           2240 non-null   int64  \n",
      " 2   Education            2240 non-null   object \n",
      " 3   Marital_Status       2240 non-null   object \n",
      " 4   Income               2216 non-null   float64\n",
      " 5   Kidhome              2240 non-null   int64  \n",
      " 6   Teenhome             2240 non-null   int64  \n",
      " 7   Dt_Customer          2240 non-null   object \n",
      " 8   Recency              2240 non-null   int64  \n",
      " 9   MntWines             2240 non-null   int64  \n",
      " 10  MntFruits            2240 non-null   int64  \n",
      " 11  MntMeatProducts      2240 non-null   int64  \n",
      " 12  MntFishProducts      2240 non-null   int64  \n",
      " 13  MntSweetProducts     2240 non-null   int64  \n",
      " 14  MntGoldProds         2240 non-null   int64  \n",
      " 15  NumDealsPurchases    2240 non-null   int64  \n",
      " 16  NumWebPurchases      2240 non-null   int64  \n",
      " 17  NumCatalogPurchases  2240 non-null   int64  \n",
      " 18  NumStorePurchases    2240 non-null   int64  \n",
      " 19  NumWebVisitsMonth    2240 non-null   int64  \n",
      " 20  AcceptedCmp3         2240 non-null   int64  \n",
      " 21  AcceptedCmp4         2240 non-null   int64  \n",
      " 22  AcceptedCmp5         2240 non-null   int64  \n",
      " 23  AcceptedCmp1         2240 non-null   int64  \n",
      " 24  AcceptedCmp2         2240 non-null   int64  \n",
      " 25  Complain             2240 non-null   int64  \n",
      " 26  Z_CostContact        2240 non-null   int64  \n",
      " 27  Z_Revenue            2240 non-null   int64  \n",
      " 28  Response             2240 non-null   int64  \n",
      "dtypes: float64(1), int64(25), object(3)\n",
      "memory usage: 507.6+ KB\n"
     ]
    }
   ],
   "source": [
    "#information features\n",
    "data.info()"
   ]
  },
  {
   "cell_type": "markdown",
   "id": "e059699c",
   "metadata": {},
   "source": [
    "above the the code \n",
    "1)there are missing values in income \n",
    "2)dt_costumer indicate the date a costumer time is not parsed\n",
    "3)there are come categories features as there are some object. so we need to encode them in the numeric forms later "
   ]
  },
  {
   "cell_type": "code",
   "execution_count": 12,
   "id": "a66cd2ac",
   "metadata": {},
   "outputs": [
    {
     "name": "stdout",
     "output_type": "stream",
     "text": [
      "total number if data points after removing the null are  2216\n"
     ]
    }
   ],
   "source": [
    "#lets remove the misiing values \n",
    "data = data.dropna()\n",
    "print(\"total number if data points after removing the null are \",len(data))"
   ]
  },
  {
   "cell_type": "markdown",
   "id": "9cf15ae3",
   "metadata": {},
   "source": [
    "Finding the first and last customer enrolment dates\n",
    "In this step, we looked at the column that stores the date each customer joined.\n",
    "We first made sure all the dates were in the right format so the computer could read them correctly.\n",
    "\n",
    "Then, we went through the list of dates and picked out only the day, month, and year (ignoring any time information).\n",
    "\n",
    "Finally, we compared all the dates to find:\n",
    "\n",
    "The newest date → the most recent customer to join.\n",
    "\n",
    "The oldest date → the very first customer in the records.\n",
    "\n",
    "This tells us the time range covered by our customer data.\n",
    "\n"
   ]
  },
  {
   "cell_type": "code",
   "execution_count": 13,
   "id": "64383f48",
   "metadata": {},
   "outputs": [
    {
     "name": "stdout",
     "output_type": "stream",
     "text": [
      "The data type of Dt_Customer after conversion is: datetime64[ns]\n",
      "The newest customer's enrolment date in therecords: 2014-06-29\n",
      "The oldest customer's enrolment date in the records: 2012-07-30\n"
     ]
    }
   ],
   "source": [
    "#CONVERTING DATA TO DATIME FORMAT\n",
    "#convert the Dt_Customer column to datetime format\n",
    "#and extract the date from it\n",
    "data[\"Dt_Customer\"] = pd.to_datetime(data[\"Dt_Customer\"], dayfirst=True, errors='coerce')\n",
    "#check if the conversion was successful\n",
    "print(\"The data type of Dt_Customer after conversion is:\", data[\"Dt_Customer\"].dtype)\n",
    "data[\"Dt_Customer\"] = pd.to_datetime(data[\"Dt_Customer\"], dayfirst=True, errors='coerce')\n",
    "dates = []\n",
    "for i in data[\"Dt_Customer\"]:\n",
    "    i = i.date()\n",
    "    dates.append(i)  \n",
    "#Dates of the newest and oldest recorded customer\n",
    "print(\"The newest customer's enrolment date in therecords:\",max(dates))\n",
    "print(\"The oldest customer's enrolment date in the records:\",min(dates))\n"
   ]
  },
  {
   "cell_type": "markdown",
   "id": "5cc9c60f",
   "metadata": {},
   "source": [
    "creating a [Costumer_for ]NOW We check how long a costumer has been here to shop"
   ]
  },
  {
   "cell_type": "code",
   "execution_count": 14,
   "id": "cfcedd52",
   "metadata": {},
   "outputs": [],
   "source": [
    "days = [] #list to store the days between the first/last activity and the recent date\n",
    "d1 = max(dates) #the recent date \n",
    "for i in dates : # loop through the dates \n",
    "  delta = d1 - i # calulate the days between the recentg days and the  first/last activity\n",
    "  days.append(delta)#store it \n",
    "\n",
    "data[\"Costumer_for\"] = days\n",
    "#convert the Costumer_for column to numeric format\n",
    "data['Costumer_for'] = pd.to_numeric(data['Costumer_for'],errors='coerce')"
   ]
  },
  {
   "cell_type": "markdown",
   "id": "c23476d6",
   "metadata": {},
   "source": [
    "categories distribution and encoding "
   ]
  },
  {
   "cell_type": "code",
   "execution_count": 15,
   "id": "7df3a444",
   "metadata": {},
   "outputs": [
    {
     "name": "stdout",
     "output_type": "stream",
     "text": [
      "total categories of the features Martal_Status:/n Marital_Status\n",
      "Married     857\n",
      "Together    573\n",
      "Single      471\n",
      "Divorced    232\n",
      "Widow        76\n",
      "Alone         3\n",
      "Absurd        2\n",
      "YOLO          2\n",
      "Name: count, dtype: int64\n",
      "total categories of the features Education:/n Education\n",
      "Graduation    1116\n",
      "PhD            481\n",
      "Master         365\n",
      "2n Cycle       200\n",
      "Basic           54\n",
      "Name: count, dtype: int64\n"
     ]
    }
   ],
   "source": [
    "print('total categories of the features Martal_Status:/n', data['Marital_Status'].value_counts())\n",
    "print(\"total categories of the features Education:/n\",data['Education'].value_counts())"
   ]
  },
  {
   "cell_type": "code",
   "execution_count": 16,
   "id": "98dab45d",
   "metadata": {},
   "outputs": [
    {
     "data": {
      "image/png": "[encoded data removed]",
      "text/plain": [
       "<Figure size 600x400 with 1 Axes>"
      ]
     },
     "metadata": {},
     "output_type": "display_data"
    },
    {
     "data": {
      "image/png": "[encoded data removed]",
      "text/plain": [
       "<Figure size 600x400 with 1 Axes>"
      ]
     },
     "metadata": {},
     "output_type": "display_data"
    }
   ],
   "source": [
    "\n",
    "# Set style\n",
    "sns.set(style=\"whitegrid\")\n",
    "\n",
    "# Marital Status\n",
    "plt.figure(figsize=(6,4))\n",
    "sns.countplot(x=\"Marital_Status\", data=data, order=data['Marital_Status'].value_counts().index)\n",
    "plt.title(\"Distribution of Marital Status\")\n",
    "plt.xlabel(\"Marital Status\")\n",
    "plt.ylabel(\"Count\")\n",
    "plt.show()\n",
    "\n",
    "# Education\n",
    "plt.figure(figsize=(6,4))\n",
    "sns.countplot(x=\"Education\", data=data, order=data['Education'].value_counts().index)\n",
    "plt.title(\"Distribution of Education Levels\")\n",
    "plt.xlabel(\"Education\")\n",
    "plt.ylabel(\"Count\")\n",
    "plt.show()\n"
   ]
  },
  {
   "cell_type": "markdown",
   "id": "2312cb91",
   "metadata": {},
   "source": [
    "Why visualize it?\n",
    "Quickly see imbalances (e.g., 80% “Married”)\n",
    "Spot rare categories you might merge before encoding\n",
    "Understand demographic spread for your customer segmentation\n",
    "\n"
   ]
  },
  {
   "cell_type": "code",
   "execution_count": 17,
   "id": "475b98d8",
   "metadata": {},
   "outputs": [
    {
     "name": "stdout",
     "output_type": "stream",
     "text": [
      "✅ Data exploration complete. Cleaned dataset saved as 'explored_data.csv'\n"
     ]
    }
   ],
   "source": [
    "\n",
    "# 🔹 Save cleaned dataset for feature engineering\n",
    "data.to_csv(\"explored_data.csv\", index=False)\n",
    "print(\"✅ Data exploration complete. Cleaned dataset saved as 'explored_data.csv'\")"
   ]
  },
  {
   "cell_type": "markdown",
   "id": "64f32008",
   "metadata": {},
   "source": []
  },
  {
   "cell_type": "markdown",
   "id": "a51f607a",
   "metadata": {},
   "source": [
    "🎯 Summary\n",
    "\n",
    "So in this Data Evaluation file i have:\n",
    "\n",
    "✅ Data loading & structure check\n",
    "\n",
    "✅ Missing values handled\n",
    "\n",
    "✅ Date parsing + new feature (Customer_for)\n",
    "\n",
    "✅ Distribution check for categorical features (Marital_Status, Education)\n",
    "\n",
    "✅ Visualization of key categorical variables"
   ]
  }
 ],
 "metadata": {
  "kernelspec": {
   "display_name": "Python 3",
   "language": "python",
   "name": "python3"
  },
  "language_info": {
   "codemirror_mode": {
    "name": "ipython",
    "version": 3
   },
   "file_extension": ".py",
   "mimetype": "text/x-python",
   "name": "python",
   "nbconvert_exporter": "python",
   "pygments_lexer": "ipython3",
   "version": "3.11.9"
  }
 },
 "nbformat": 4,
 "nbformat_minor": 5
}
